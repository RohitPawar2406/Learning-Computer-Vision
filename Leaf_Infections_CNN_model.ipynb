{
 "cells": [
  {
   "cell_type": "code",
   "execution_count": 1,
   "metadata": {},
   "outputs": [],
   "source": [
    "import tensorflow.keras.backend as K\n",
    "from tensorflow.keras.models import load_model\n",
    "from tensorflow.keras.preprocessing import image\n",
    "import matplotlib.pyplot as plt\n",
    "import numpy as np\n",
    "import os \n",
    "import random\n",
    "import tensorflow as tf\n",
    "import tensorflow.keras.backend as K\n",
    "from tensorflow.keras import regularizers\n",
    "from tensorflow.keras.models import Sequential, Model\n",
    "from tensorflow.keras.layers import Dense, Dropout, Activation, Flatten\n",
    "from tensorflow.keras.layers import Convolution2D, MaxPooling2D, ZeroPadding2D, GlobalAveragePooling2D, AveragePooling2D\n",
    "from tensorflow.keras.preprocessing.image import ImageDataGenerator\n",
    "from tensorflow.keras.callbacks import ModelCheckpoint, CSVLogger\n",
    "from tensorflow.keras.optimizers import SGD\n",
    "from tensorflow.keras.regularizers import l2\n",
    "from tensorflow import keras\n",
    "from tensorflow.keras import models\n",
    "import cv2\n",
    "import matplotlib.pyplot as plt"
   ]
  },
  {
   "cell_type": "code",
   "execution_count": 2,
   "metadata": {},
   "outputs": [
    {
     "name": "stdout",
     "output_type": "stream",
     "text": [
      "Found 214 images belonging to 5 classes.\n",
      "WARNING:tensorflow:From <ipython-input-2-2b6f36fdf1f3>:42: Model.fit_generator (from tensorflow.python.keras.engine.training) is deprecated and will be removed in a future version.\n",
      "Instructions for updating:\n",
      "Please use Model.fit, which supports generators.\n",
      "Epoch 1/15\n",
      "14/14 [==============================] - 1s 41ms/step - loss: 1.6053 - accuracy: 0.2477\n",
      "Epoch 2/15\n",
      "14/14 [==============================] - 1s 38ms/step - loss: 1.3891 - accuracy: 0.4673\n",
      "Epoch 3/15\n",
      "14/14 [==============================] - 1s 37ms/step - loss: 1.3146 - accuracy: 0.4766\n",
      "Epoch 4/15\n",
      "14/14 [==============================] - 1s 37ms/step - loss: 1.1764 - accuracy: 0.5981\n",
      "Epoch 5/15\n",
      "14/14 [==============================] - 1s 37ms/step - loss: 1.0848 - accuracy: 0.5888\n",
      "Epoch 6/15\n",
      "14/14 [==============================] - 1s 37ms/step - loss: 0.8840 - accuracy: 0.6776\n",
      "Epoch 7/15\n",
      "14/14 [==============================] - 1s 38ms/step - loss: 0.8173 - accuracy: 0.7009\n",
      "Epoch 8/15\n",
      "14/14 [==============================] - 1s 37ms/step - loss: 0.6993 - accuracy: 0.7804\n",
      "Epoch 9/15\n",
      "14/14 [==============================] - 1s 41ms/step - loss: 0.5254 - accuracy: 0.8178\n",
      "Epoch 10/15\n",
      "14/14 [==============================] - 1s 38ms/step - loss: 0.4712 - accuracy: 0.8084\n",
      "Epoch 11/15\n",
      "14/14 [==============================] - 1s 38ms/step - loss: 0.4744 - accuracy: 0.8084\n",
      "Epoch 12/15\n",
      "14/14 [==============================] - 1s 40ms/step - loss: 0.3872 - accuracy: 0.8738\n",
      "Epoch 13/15\n",
      "14/14 [==============================] - 1s 38ms/step - loss: 0.3586 - accuracy: 0.8505\n",
      "Epoch 14/15\n",
      "14/14 [==============================] - 1s 37ms/step - loss: 0.3371 - accuracy: 0.8738\n",
      "Epoch 15/15\n",
      "14/14 [==============================] - 1s 37ms/step - loss: 0.3160 - accuracy: 0.8879\n"
     ]
    },
    {
     "data": {
      "image/png": "[encoded data removed]",
      "text/plain": [
       "<Figure size 432x288 with 1 Axes>"
      ]
     },
     "metadata": {
      "needs_background": "light"
     },
     "output_type": "display_data"
    }
   ],
   "source": [
    "####################### Training Model###########################################\n",
    "n_classes = 5\n",
    "hight ,width = 32,32\n",
    "train_dir = 'Train'\n",
    "val_dir = 'Test'\n",
    "\n",
    "batch_size = 16                                          \n",
    "\n",
    "################Image Pre-Processing ####################\n",
    "train_datagen = ImageDataGenerator(\n",
    "    rescale=1. / 255,\n",
    "    shear_range=0.2,\n",
    "    zoom_range=0.2,\n",
    "    horizontal_flip=True)\n",
    "\n",
    "test_datagen = ImageDataGenerator(rescale=1. / 255)\n",
    "\n",
    "train_generator = train_datagen.flow_from_directory(   # Directory Showing to Tf\n",
    "    train_dir,\n",
    "    target_size=(hight,width),\n",
    "    batch_size=batch_size,\n",
    "    class_mode='categorical')\n",
    "\n",
    "model = Sequential([\n",
    "                    tf.keras.layers.Conv2D(\n",
    "    32, (3,3), (1, 1), input_shape = (32,32,3)),\n",
    "    tf.keras.layers.Conv2D(32, (3,3) , strides=(1,1)),    # Used for Edge Detection\n",
    "    tf.keras.layers.Activation('relu'),\n",
    "    tf.keras.layers.MaxPool2D(\n",
    "    pool_size=(2, 2)),\n",
    "    tf.keras.layers.Flatten(),\n",
    "    tf.keras.layers.Dense(256 , activation = 'relu'),\n",
    "    tf.keras.layers.Dense(128,activation ='relu' ),\n",
    "    tf.keras.layers.Dense(5 , activation = 'softmax')\n",
    "\n",
    "])\n",
    "\n",
    "#model = Model(inputs=resnet.input, outputs=predictions)\n",
    "model.compile(optimizer= 'adam', loss='categorical_crossentropy', metrics=['accuracy'])\n",
    "\n",
    "\n",
    "history = model.fit_generator(train_generator,\n",
    "                    \n",
    "                    epochs=15,\n",
    "                    verbose=1,\n",
    "                    )\n",
    "model.save('papaya.hdf5')\n",
    "\n",
    "\n",
    "plt.title('epochs vs loss')\n",
    "plt.plot(history.history['loss'])\n",
    "\n",
    "plt.ylabel('loss')\n",
    "plt.xlabel('epoch')\n",
    "plt.legend(['train_loss', 'validation_loss'], loc='best')\n",
    "plt.show()"
   ]
  },
  {
   "cell_type": "code",
   "execution_count": 3,
   "metadata": {},
   "outputs": [
    {
     "name": "stdout",
     "output_type": "stream",
     "text": [
      "0\n",
      "['anthracnose', 'black_spot', 'phytophthora', 'powdery_mildew', 'ring_spot']\n"
     ]
    },
    {
     "data": {
      "image/png": "[encoded data removed]",
      "text/plain": [
       "<Figure size 432x288 with 1 Axes>"
      ]
     },
     "metadata": {
      "needs_background": "light"
     },
     "output_type": "display_data"
    }
   ],
   "source": [
    "food_list = ['anthracnose','black_spot','phytophthora','powdery_mildew','ring_spot']\n",
    "model_best = load_model('papaya.hdf5',compile = False)\n",
    "images = []\n",
    "images.append('img4.jpeg')\n",
    "\n",
    "\n",
    "\n",
    "def predict_class(model, images, show = True):\n",
    "  for img in images:\n",
    "    img = image.load_img(img, target_size=(32,32))\n",
    "    img = image.img_to_array(img)                    \n",
    "    img = np.expand_dims(img, axis=0)         \n",
    "    img /= 255.                                      \n",
    "\n",
    "    pred = model.predict(img)\n",
    "    index = np.argmax(pred)\n",
    "    print(index)\n",
    "    \n",
    "    print(food_list)\n",
    "    pred_value = food_list[index]\n",
    "    if show:\n",
    "        plt.imshow(img[0])                           \n",
    "        plt.axis('off')\n",
    "        plt.title(pred_value)\n",
    "        plt.show()\n",
    "\n",
    "\n",
    "if __name__ == '__main__':\n",
    "    predict_class(model_best , images , True)"
   ]
  },
  {
   "cell_type": "code",
   "execution_count": null,
   "metadata": {},
   "outputs": [],
   "source": []
  }
 ],
 "metadata": {
  "kernelspec": {
   "display_name": "Python 3",
   "language": "python",
   "name": "python3"
  },
  "language_info": {
   "codemirror_mode": {
    "name": "ipython",
    "version": 3
   },
   "file_extension": ".py",
   "mimetype": "text/x-python",
   "name": "python",
   "nbconvert_exporter": "python",
   "pygments_lexer": "ipython3",
   "version": "3.8.3"
  }
 },
 "nbformat": 4,
 "nbformat_minor": 4
}
