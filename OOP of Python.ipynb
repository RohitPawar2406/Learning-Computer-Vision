{
 "cells": [
  {
   "cell_type": "code",
   "execution_count": 4,
   "metadata": {},
   "outputs": [
    {
     "data": {
      "text/plain": [
       "('Cruizer', __main__.Bike, str, 100, 66)"
      ]
     },
     "execution_count": 4,
     "metadata": {},
     "output_type": "execute_result"
    }
   ],
   "source": [
    "# Class and its Attributes\n",
    "#__init__() works as the constructor.\n",
    "#1)self keyword is used to work with that object is created, here we use object1. So this help us to know object1\n",
    "# se myattritube me kindof save huaa he.\n",
    "class Bike():\n",
    "    def __init__(self, kindOf, max_speed, torque):\n",
    "        self.myattribute=kindOf\n",
    "        # It's always better to same name to self keyword as the parameters passed in __init__() \n",
    "        self.max_speed=max_speed\n",
    "        self.torque = torque\n",
    "\n",
    "object1 = Bike('Cruizer',100,66)\n",
    "object1.myattribute, type(object1),type(object1.myattribute),object1.max_speed, object1.torque"
   ]
  },
  {
   "cell_type": "code",
   "execution_count": 2,
   "metadata": {},
   "outputs": [
    {
     "data": {
      "text/plain": [
       "(10, 314.0, 62.800000000000004)"
      ]
     },
     "execution_count": 2,
     "metadata": {},
     "output_type": "execute_result"
    }
   ],
   "source": [
    "#Class and Methods \n",
    "class Circle():\n",
    "    \n",
    "    pi=3.14     # Class attributes and it is called in function as self.pi or Circle.pi(more preferred). \n",
    "    def __init__(self,radius=1):\n",
    "        self.radius=radius\n",
    "        self.area= Circle.pi*(self.radius**2)\n",
    "    # operations are done these method and they are called using object only.\n",
    "    def circumference(self):\n",
    "        return 2*Circle.pi*self.radius\n",
    "object2=Circle(10)\n",
    "object2.radius,object2.area, object2.circumference()"
   ]
  },
  {
   "cell_type": "code",
   "execution_count": 28,
   "metadata": {},
   "outputs": [],
   "source": [
    "# Inhertiance\n",
    "class Animal():\n",
    "    def __init__(self):\n",
    "        print(\"Hello Animal __init__\")\n",
    "    def func1(self):\n",
    "        print(\"I am animal one!!!\")\n",
    "        return \"HELLO ROHIT!!\"\n",
    "class Dog(Animal):\n",
    "    def __init__(self):\n",
    "        print(\"Hello Dog __init__\")\n",
    "        Animal.__init__(self)\n",
    "    def func2(self):\n",
    "        print(\"I am Dog function\")"
   ]
  },
  {
   "cell_type": "code",
   "execution_count": 29,
   "metadata": {},
   "outputs": [
    {
     "name": "stdout",
     "output_type": "stream",
     "text": [
      "Hello Dog __init__\n",
      "Hello Animal __init__\n"
     ]
    }
   ],
   "source": [
    "obj3 = Dog()"
   ]
  },
  {
   "cell_type": "code",
   "execution_count": 30,
   "metadata": {},
   "outputs": [
    {
     "name": "stdout",
     "output_type": "stream",
     "text": [
      "I am animal one!!!\n",
      "I am Dog function\n"
     ]
    },
    {
     "data": {
      "text/plain": [
       "('HELLO ROHIT!!', None)"
      ]
     },
     "execution_count": 30,
     "metadata": {},
     "output_type": "execute_result"
    }
   ],
   "source": [
    "obj3.func1(), obj3.func2()"
   ]
  },
  {
   "cell_type": "code",
   "execution_count": null,
   "metadata": {},
   "outputs": [],
   "source": []
  }
 ],
 "metadata": {
  "kernelspec": {
   "display_name": "Python 3",
   "language": "python",
   "name": "python3"
  },
  "language_info": {
   "codemirror_mode": {
    "name": "ipython",
    "version": 3
   },
   "file_extension": ".py",
   "mimetype": "text/x-python",
   "name": "python",
   "nbconvert_exporter": "python",
   "pygments_lexer": "ipython3",
   "version": "3.8.3"
  }
 },
 "nbformat": 4,
 "nbformat_minor": 4
}
