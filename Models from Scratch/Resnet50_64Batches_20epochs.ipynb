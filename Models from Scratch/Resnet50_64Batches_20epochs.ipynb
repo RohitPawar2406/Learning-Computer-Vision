{
 "cells": [
  {
   "cell_type": "code",
   "execution_count": 1,
   "id": "378b4cad",
   "metadata": {},
   "outputs": [
    {
     "name": "stderr",
     "output_type": "stream",
     "text": [
      "2021-07-20 20:26:40.912742: W tensorflow/stream_executor/platform/default/dso_loader.cc:64] Could not load dynamic library 'libcudart.so.11.0'; dlerror: libcudart.so.11.0: cannot open shared object file: No such file or directory\n",
      "2021-07-20 20:26:40.912763: I tensorflow/stream_executor/cuda/cudart_stub.cc:29] Ignore above cudart dlerror if you do not have a GPU set up on your machine.\n"
     ]
    }
   ],
   "source": [
    "import tensorflow as tf\n",
    "from tensorflow.keras import Model,activations\n",
    "from tensorflow.keras.activations import relu\n",
    "from tensorflow.keras.layers import Dense,Conv2D,MaxPool2D,BatchNormalization,Input,ZeroPadding2D,BatchNormalization,Add,AveragePooling2D,Flatten,Dense,Activation\n",
    "from tensorflow.keras.preprocessing.image import ImageDataGenerator\n",
    "from tensorflow.keras.preprocessing import image_dataset_from_directory # # Method 2 to load Dataset in model\n",
    "from tensorflow.keras.models import load_model\n",
    "import cv2"
   ]
  },
  {
   "cell_type": "code",
   "execution_count": 2,
   "id": "3d495d7e",
   "metadata": {},
   "outputs": [],
   "source": [
    "datagen = ImageDataGenerator(\n",
    "    rescale=1/255,\n",
    "    rotation_range=7,\n",
    "    zoom_range=(0.95,0.95),\n",
    "    horizontal_flip=False,\n",
    "    vertical_flip=False,\n",
    "    data_format='channels_last',\n",
    "    validation_split=0.0,\n",
    "    dtype=tf.float32\n",
    ")"
   ]
  },
  {
   "cell_type": "code",
   "execution_count": 3,
   "id": "ca9b16ec",
   "metadata": {},
   "outputs": [
    {
     "name": "stdout",
     "output_type": "stream",
     "text": [
      "Found 4936 images belonging to 34 classes.\n"
     ]
    }
   ],
   "source": [
    "training_data = datagen.flow_from_directory(\n",
    "    'birds/train',\n",
    "    target_size=(224,224),\n",
    "    batch_size=32,\n",
    "    color_mode='rgb',\n",
    "    class_mode='categorical',\n",
    "    shuffle=True,\n",
    "    subset='training'\n",
    ")"
   ]
  },
  {
   "cell_type": "code",
   "execution_count": 4,
   "id": "812d7464",
   "metadata": {},
   "outputs": [],
   "source": [
    "def identity_block(x,Filters,block_number):\n",
    "    # saving previous model which will add afterwards. \n",
    "    x_shortcut = x\n",
    "    \n",
    "    # =========================================First Block====================================================\n",
    "    # First Convolution Block\n",
    "    name1=\"Conv \"+ str(block_number)+\"a\" \n",
    "    x = Conv2D(Filters[0],1)(x)\n",
    "    # Batch normalisation\n",
    "    name=\"BatchNormalisation \"+ str(block_number)+\"_a\" \n",
    "    x = BatchNormalization(axis=3)(x)\n",
    "    # Activation Function\n",
    "    x = Activation('relu')(x)\n",
    "    #=========================================Second Block===================================================\n",
    "    # Second Convolution Block\n",
    "    name=\"Conv \"+ str(block_number)+\"_b\" \n",
    "    x = Conv2D(Filters[1],3,padding='same')(x)\n",
    "    # Batch normalisation\n",
    "    name=\"BatchNormalisation \"+ str(block_number)+\"_b\" \n",
    "    x = BatchNormalization(axis=3)(x)\n",
    "    # Activation Function\n",
    "    x = Activation('relu')(x)\n",
    "    #=========================================Third Block===================================================\n",
    "    # Third Convolution Block\n",
    "    name=\"Conv \"+ str(block_number)+\"_c\" \n",
    "    x = Conv2D(Filters[2],1)(x)\n",
    "    # Batch normalisation\n",
    "    name=\"BatchNormalisation \"+ str(block_number)+\"_c\" \n",
    "    x = BatchNormalization(axis=3)(x)\n",
    "    \n",
    "    ## Final step: Add shortcut value to main path, and pass it through a RELU activation\n",
    "    x = Add()([x,x_shortcut])\n",
    "    x = Activation('relu')(x)\n",
    "    return x\n",
    "    "
   ]
  },
  {
   "cell_type": "code",
   "execution_count": 5,
   "id": "09dfac28",
   "metadata": {},
   "outputs": [],
   "source": [
    "def convolutional_block(x,Filters,block_number):\n",
    "    if block_number>1:\n",
    "        s=2\n",
    "    if block_number==1:\n",
    "        s=1\n",
    "    # saving previous model which will add afterwards. \n",
    "    x_shortcut = x\n",
    "    \n",
    "    # =========================================First Block====================================================\n",
    "    # First Convolution Block\n",
    "    name1=\"Conv \"+ str(block_number)+\"a\" \n",
    "    x = Conv2D(Filters[0],1,strides=(s,s))(x)\n",
    "    # Batch normalisation\n",
    "    name=\"BatchNormalisation \"+ str(block_number)+\"_a\" \n",
    "    x = BatchNormalization(axis=3)(x)\n",
    "    # Activation Function\n",
    "    x = Activation('relu')(x)\n",
    "    #=========================================Second Block===================================================\n",
    "    # Second Convolution Block\n",
    "    name=\"Conv \"+ str(block_number)+\"_b\" \n",
    "    x = Conv2D(Filters[1],3,padding='same')(x)\n",
    "    # Batch normalisation\n",
    "    name=\"BatchNormalisation \"+ str(block_number)+\"_b\" \n",
    "    x = BatchNormalization(axis=3)(x)\n",
    "    # Activation Function\n",
    "    x = Activation('relu')(x)\n",
    "    #=========================================Third Block===================================================\n",
    "    # Third Convolution Block\n",
    "    name=\"Conv \"+ str(block_number)+\"_c\" \n",
    "    x = Conv2D(Filters[2],1)(x)\n",
    "    # Batch normalisation\n",
    "    name=\"BatchNormalisation \"+ str(block_number)+\"_c\" \n",
    "    x = BatchNormalization(axis=3)(x)\n",
    "    \n",
    "    # Now x_shortcut has dimensions(55,55,64) and next has (55, 55, 256) so we will to modify something that is\n",
    "    # we have to create Conv2D and pass 256 filters as it will equal up he thing. As i am future we have to add up\n",
    "    # previous block stage and Third Block of previous stage.\n",
    "    x_shortcut = Conv2D(Filters[2],1)(x_shortcut)\n",
    "    x_shortcut = BatchNormalization(axis=3)(x)\n",
    "    ## Final step: Add shortcut value to main path, and pass it through a RELU activation\n",
    "    x = Add()([x,x_shortcut])\n",
    "    x = Activation('relu')(x)\n",
    "    return x"
   ]
  },
  {
   "cell_type": "code",
   "execution_count": 6,
   "id": "9730498a",
   "metadata": {},
   "outputs": [],
   "source": [
    "def resnet152(input_size):\n",
    "\n",
    "    X_input = Input(shape=input_size)\n",
    "    print(f'Shape of X_input {X_input.shape}')\n",
    "    \n",
    "    # ZeroPadding \n",
    "    X = ZeroPadding2D((3,3))(X_input)\n",
    "    \n",
    "    # conv1\n",
    "    X=Conv2D(64,7,strides=(2,2),name=\"Conv1\")(X)\n",
    "    \n",
    "    # MaxPooling2D\n",
    "    X = MaxPool2D((3,3),strides=(2,2))(X)\n",
    "    \n",
    "    #Conv2_x\n",
    "    X = convolutional_block(X,Filters=[64,64,256],block_number=1)\n",
    "    X = identity_block(X,Filters=[64,64,256],block_number=1)\n",
    "    X = identity_block(X,Filters=[64,64,256],block_number=1)\n",
    "    \n",
    "    #Conv3_x\n",
    "    X = convolutional_block(X,Filters=[128,128,512],block_number=2)\n",
    "    X = identity_block(X,Filters=[128,128,512],block_number=2)\n",
    "    X = identity_block(X,Filters=[128,128,512],block_number=2)\n",
    "    X = identity_block(X,Filters=[128,128,512],block_number=2)\n",
    "    \n",
    "    #Conv4_x\n",
    "    X = convolutional_block(X,Filters=[256,256,1024],block_number=3)\n",
    "    X = identity_block(X,Filters=[256,256,1024],block_number=3)\n",
    "    X = identity_block(X,Filters=[256,256,1024],block_number=3)\n",
    "    X = identity_block(X,Filters=[256,256,1024],block_number=3)\n",
    "    X = identity_block(X,Filters=[256,256,1024],block_number=3)\n",
    "    X = identity_block(X,Filters=[256,256,1024],block_number=3)\n",
    "    \n",
    "    #Conv5_x\n",
    "    X = convolutional_block(X,Filters=[512,512,2048],block_number=4)\n",
    "    X = identity_block(X,Filters=[512,512,2048],block_number=4)\n",
    "    X = identity_block(X,Filters=[512,512,2048],block_number=4)\n",
    "    \n",
    "    # Avg Pool\n",
    "    X = AveragePooling2D((2,2))(X)\n",
    "    \n",
    "    # OutPut Layer\n",
    "    X = Flatten()(X)\n",
    "    X = Dense(34,activation='softmax')(X)\n",
    "    model = Model(inputs=X_input,outputs=X)\n",
    "    return model"
   ]
  },
  {
   "cell_type": "code",
   "execution_count": 7,
   "id": "ce478948",
   "metadata": {},
   "outputs": [
    {
     "name": "stdout",
     "output_type": "stream",
     "text": [
      "Shape of X_input (None, 224, 224, 3)\n"
     ]
    },
    {
     "name": "stderr",
     "output_type": "stream",
     "text": [
      "2021-07-20 20:26:42.102962: I tensorflow/stream_executor/platform/default/dso_loader.cc:53] Successfully opened dynamic library libcuda.so.1\n",
      "2021-07-20 20:26:42.150874: I tensorflow/stream_executor/cuda/cuda_gpu_executor.cc:937] successful NUMA node read from SysFS had negative value (-1), but there must be at least one NUMA node, so returning NUMA node zero\n",
      "2021-07-20 20:26:42.151366: I tensorflow/core/common_runtime/gpu/gpu_device.cc:1733] Found device 0 with properties: \n",
      "pciBusID: 0000:01:00.0 name: GeForce GTX 1050 Ti computeCapability: 6.1\n",
      "coreClock: 1.62GHz coreCount: 6 deviceMemorySize: 3.95GiB deviceMemoryBandwidth: 104.43GiB/s\n",
      "2021-07-20 20:26:42.151515: W tensorflow/stream_executor/platform/default/dso_loader.cc:64] Could not load dynamic library 'libcudart.so.11.0'; dlerror: libcudart.so.11.0: cannot open shared object file: No such file or directory\n",
      "2021-07-20 20:26:42.151620: W tensorflow/stream_executor/platform/default/dso_loader.cc:64] Could not load dynamic library 'libcublas.so.11'; dlerror: libcublas.so.11: cannot open shared object file: No such file or directory\n",
      "2021-07-20 20:26:42.151717: W tensorflow/stream_executor/platform/default/dso_loader.cc:64] Could not load dynamic library 'libcublasLt.so.11'; dlerror: libcublasLt.so.11: cannot open shared object file: No such file or directory\n",
      "2021-07-20 20:26:42.153955: I tensorflow/stream_executor/platform/default/dso_loader.cc:53] Successfully opened dynamic library libcufft.so.10\n",
      "2021-07-20 20:26:42.154386: I tensorflow/stream_executor/platform/default/dso_loader.cc:53] Successfully opened dynamic library libcurand.so.10\n",
      "2021-07-20 20:26:42.154498: W tensorflow/stream_executor/platform/default/dso_loader.cc:64] Could not load dynamic library 'libcusolver.so.11'; dlerror: libcusolver.so.11: cannot open shared object file: No such file or directory\n",
      "2021-07-20 20:26:42.154614: W tensorflow/stream_executor/platform/default/dso_loader.cc:64] Could not load dynamic library 'libcusparse.so.11'; dlerror: libcusparse.so.11: cannot open shared object file: No such file or directory\n",
      "2021-07-20 20:26:42.154711: W tensorflow/stream_executor/platform/default/dso_loader.cc:64] Could not load dynamic library 'libcudnn.so.8'; dlerror: libcudnn.so.8: cannot open shared object file: No such file or directory\n",
      "2021-07-20 20:26:42.154727: W tensorflow/core/common_runtime/gpu/gpu_device.cc:1766] Cannot dlopen some GPU libraries. Please make sure the missing libraries mentioned above are installed properly if you would like to use GPU. Follow the guide at https://www.tensorflow.org/install/gpu for how to download and setup the required libraries for your platform.\n",
      "Skipping registering GPU devices...\n",
      "2021-07-20 20:26:42.155808: I tensorflow/core/platform/cpu_feature_guard.cc:142] This TensorFlow binary is optimized with oneAPI Deep Neural Network Library (oneDNN) to use the following CPU instructions in performance-critical operations:  AVX2 FMA\n",
      "To enable them in other operations, rebuild TensorFlow with the appropriate compiler flags.\n",
      "2021-07-20 20:26:42.156283: I tensorflow/core/common_runtime/gpu/gpu_device.cc:1258] Device interconnect StreamExecutor with strength 1 edge matrix:\n",
      "2021-07-20 20:26:42.156299: I tensorflow/core/common_runtime/gpu/gpu_device.cc:1264]      \n"
     ]
    }
   ],
   "source": [
    "input_size=[224,224,3]\n",
    "model = resnet152(input_size)\n",
    "#model.summary()"
   ]
  },
  {
   "cell_type": "code",
   "execution_count": 8,
   "id": "2874ce4b",
   "metadata": {},
   "outputs": [],
   "source": [
    "model.compile(optimizer='adam', loss='categorical_crossentropy', metrics=['accuracy'])\n",
    "#model.fit(training_data, epochs = 20,batch_size=64)"
   ]
  },
  {
   "cell_type": "code",
   "execution_count": 9,
   "id": "9f3441db",
   "metadata": {},
   "outputs": [],
   "source": [
    "#model.save(\"Resnet-50_64Batches_20epochs.h5\")"
   ]
  },
  {
   "cell_type": "code",
   "execution_count": 10,
   "id": "f89442cf",
   "metadata": {},
   "outputs": [],
   "source": [
    "saved_model = load_model('Resnet-50_64Batches_20epochs.h5')"
   ]
  },
  {
   "cell_type": "code",
   "execution_count": 11,
   "id": "08c7cfd0",
   "metadata": {},
   "outputs": [
    {
     "name": "stdout",
     "output_type": "stream",
     "text": [
      "Found 170 images belonging to 34 classes.\n"
     ]
    }
   ],
   "source": [
    "datagen = ImageDataGenerator(\n",
    "    rescale=1/255,\n",
    "    dtype=tf.float32\n",
    ")\n",
    "testing_data = datagen.flow_from_directory(\n",
    "    'birds/test',\n",
    "    target_size=(224,224),\n",
    "    batch_size=32,\n",
    "    color_mode='rgb',\n",
    "    class_mode='categorical',\n",
    ")"
   ]
  },
  {
   "cell_type": "code",
   "execution_count": null,
   "id": "f89fce10",
   "metadata": {},
   "outputs": [],
   "source": [
    "tf.keras.preprocessing.image.img_to_array(img, data_format=None, dtype=None)"
   ]
  },
  {
   "cell_type": "code",
   "execution_count": null,
   "id": "1bf83520",
   "metadata": {},
   "outputs": [],
   "source": []
  }
 ],
 "metadata": {
  "kernelspec": {
   "display_name": "Python 3 (ipykernel)",
   "language": "python",
   "name": "python3"
  },
  "language_info": {
   "codemirror_mode": {
    "name": "ipython",
    "version": 3
   },
   "file_extension": ".py",
   "mimetype": "text/x-python",
   "name": "python",
   "nbconvert_exporter": "python",
   "pygments_lexer": "ipython3",
   "version": "3.7.10"
  }
 },
 "nbformat": 4,
 "nbformat_minor": 5
}
