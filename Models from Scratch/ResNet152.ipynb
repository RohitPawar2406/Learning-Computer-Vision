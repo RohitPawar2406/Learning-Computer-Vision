{
 "cells": [
  {
   "cell_type": "code",
   "execution_count": null,
   "metadata": {},
   "outputs": [],
   "source": [
    "import tensorflow as tf\n",
    "from tensorflow.keras import Model,activations\n",
    "from tensorflow.keras.activations import relu\n",
    "from tensorflow.keras.layers import Dense,Conv2D,MaxPool2D,BatchNormalization,Input,ZeroPadding2D,BatchNormalization,Add,AveragePooling2D,Flatten,Dense,Activation\n",
    "from tensorflow.keras.preprocessing.image import ImageDataGenerator\n",
    "from tensorflow.keras.preprocessing import image_dataset_from_directory # # Method 2 to load Dataset in model"
   ]
  },
  {
   "cell_type": "markdown",
   "metadata": {},
   "source": [
    "## Loading Dataset and Data Augmentation"
   ]
  },
  {
   "cell_type": "code",
   "execution_count": null,
   "metadata": {},
   "outputs": [],
   "source": [
    "datagen = ImageDataGenerator(\n",
    "    rescale=1/255,\n",
    "    rotation_range=7,\n",
    "    zoom_range=(0.95,0.95),\n",
    "    horizontal_flip=False,\n",
    "    vertical_flip=False,\n",
    "    data_format='channels_last',\n",
    "    validation_split=0.0,\n",
    "    dtype=tf.float32\n",
    ")\n"
   ]
  },
  {
   "cell_type": "code",
   "execution_count": null,
   "metadata": {},
   "outputs": [],
   "source": [
    "training_data = datagen.flow_from_directory(\n",
    "    'birds/train',\n",
    "    target_size=(224,224),\n",
    "    batch_size=32,\n",
    "    color_mode='rgb',\n",
    "    class_mode='categorical',\n",
    "    shuffle=True,\n",
    "    subset='training'\n",
    ")"
   ]
  },
  {
   "cell_type": "code",
   "execution_count": null,
   "metadata": {},
   "outputs": [],
   "source": [
    "datagen_validation = ImageDataGenerator(\n",
    "    rescale=1/255,\n",
    "    dtype=tf.float32\n",
    ")\n"
   ]
  },
  {
   "cell_type": "code",
   "execution_count": null,
   "metadata": {},
   "outputs": [],
   "source": [
    "validation_data = datagen_validation.flow_from_directory(\n",
    "    'birds/valid',\n",
    "    target_size=(224,224),\n",
    "    batch_size=32,\n",
    "    color_mode='rgb',\n",
    "    class_mode='categorical',\n",
    "    shuffle=True\n",
    ")"
   ]
  },
  {
   "cell_type": "markdown",
   "metadata": {},
   "source": [
    "# Resnet 152 Model"
   ]
  },
  {
   "cell_type": "code",
   "execution_count": null,
   "metadata": {},
   "outputs": [],
   "source": [
    "def identity_block(x,Filters,block_number):\n",
    "    # saving previous model which will add afterwards. \n",
    "    x_shortcut = x\n",
    "    \n",
    "    # =========================================First Block====================================================\n",
    "    # First Convolution Block\n",
    "    name1=\"Conv \"+ str(block_number)+\"a\" \n",
    "    x = Conv2D(Filters[0],1)(x)\n",
    "    # Batch normalisation\n",
    "    name=\"BatchNormalisation \"+ str(block_number)+\"_a\" \n",
    "    x = BatchNormalization(axis=3)(x)\n",
    "    # Activation Function\n",
    "    x = Activation('relu')(x)\n",
    "    #=========================================Second Block===================================================\n",
    "    # Second Convolution Block\n",
    "    name=\"Conv \"+ str(block_number)+\"_b\" \n",
    "    x = Conv2D(Filters[1],3,padding='same')(x)\n",
    "    # Batch normalisation\n",
    "    name=\"BatchNormalisation \"+ str(block_number)+\"_b\" \n",
    "    x = BatchNormalization(axis=3)(x)\n",
    "    # Activation Function\n",
    "    x = Activation('relu')(x)\n",
    "    #=========================================Third Block===================================================\n",
    "    # Third Convolution Block\n",
    "    name=\"Conv \"+ str(block_number)+\"_c\" \n",
    "    x = Conv2D(Filters[2],1)(x)\n",
    "    # Batch normalisation\n",
    "    name=\"BatchNormalisation \"+ str(block_number)+\"_c\" \n",
    "    x = BatchNormalization(axis=3)(x)\n",
    "    \n",
    "    ## Final step: Add shortcut value to main path, and pass it through a RELU activation\n",
    "    x = Add()([x,x_shortcut])\n",
    "    x = Activation('relu')(x)\n",
    "    return x\n",
    "    "
   ]
  },
  {
   "cell_type": "code",
   "execution_count": null,
   "metadata": {},
   "outputs": [],
   "source": [
    "def convolutional_block(x,Filters,block_number):\n",
    "    if block_number>1:\n",
    "        s=2\n",
    "    if block_number==1:\n",
    "        s=1\n",
    "    # saving previous model which will add afterwards. \n",
    "    x_shortcut = x\n",
    "    \n",
    "    # =========================================First Block====================================================\n",
    "    # First Convolution Block\n",
    "    name1=\"Conv \"+ str(block_number)+\"a\" \n",
    "    x = Conv2D(Filters[0],1,strides=(s,s))(x)\n",
    "    # Batch normalisation\n",
    "    name=\"BatchNormalisation \"+ str(block_number)+\"_a\" \n",
    "    x = BatchNormalization(axis=3)(x)\n",
    "    # Activation Function\n",
    "    x = Activation('relu')(x)\n",
    "    #=========================================Second Block===================================================\n",
    "    # Second Convolution Block\n",
    "    name=\"Conv \"+ str(block_number)+\"_b\" \n",
    "    x = Conv2D(Filters[1],3,padding='same')(x)\n",
    "    # Batch normalisation\n",
    "    name=\"BatchNormalisation \"+ str(block_number)+\"_b\" \n",
    "    x = BatchNormalization(axis=3)(x)\n",
    "    # Activation Function\n",
    "    x = Activation('relu')(x)\n",
    "    #=========================================Third Block===================================================\n",
    "    # Third Convolution Block\n",
    "    name=\"Conv \"+ str(block_number)+\"_c\" \n",
    "    x = Conv2D(Filters[2],1)(x)\n",
    "    # Batch normalisation\n",
    "    name=\"BatchNormalisation \"+ str(block_number)+\"_c\" \n",
    "    x = BatchNormalization(axis=3)(x)\n",
    "    \n",
    "    # Now x_shortcut has dimensions(55,55,64) and next has (55, 55, 256) so we will to modify something that is\n",
    "    # we have to create Conv2D and pass 256 filters as it will equal up he thing. As i am future we have to add up\n",
    "    # previous block stage and Third Block of previous stage.\n",
    "    x_shortcut = Conv2D(Filters[2],1)(x_shortcut)\n",
    "    x_shortcut = BatchNormalization(axis=3)(x)\n",
    "    ## Final step: Add shortcut value to main path, and pass it through a RELU activation\n",
    "    x = Add()([x,x_shortcut])\n",
    "    x = Activation('relu')(x)\n",
    "    return x"
   ]
  },
  {
   "cell_type": "code",
   "execution_count": null,
   "metadata": {},
   "outputs": [],
   "source": [
    "def resnet152(input_size):\n",
    "\n",
    "    X_input = Input(shape=input_size)\n",
    "    print(f'Shape of X_input {X_input.shape}')\n",
    "    \n",
    "    # ZeroPadding \n",
    "    X = ZeroPadding2D((3,3))(X_input)\n",
    "    \n",
    "    # conv1\n",
    "    X=Conv2D(64,7,strides=(2,2),name=\"Conv1\")(X)\n",
    "    \n",
    "    # MaxPooling2D\n",
    "    X = MaxPool2D((3,3),strides=(2,2))(X)\n",
    "    \n",
    "    #Conv2_x\n",
    "    X = convolutional_block(X,Filters=[64,64,256],block_number=1)\n",
    "    X = identity_block(X,Filters=[64,64,256],block_number=1)\n",
    "    X = identity_block(X,Filters=[64,64,256],block_number=1)\n",
    "    \n",
    "    #Conv3_x\n",
    "    X = convolutional_block(X,Filters=[128,128,512],block_number=2)\n",
    "    for id_block_number in range(1,9):\n",
    "        X = identity_block(X,Filters=[128,128,512],block_number=id_block_number)\n",
    "    \n",
    "    #Conv4_x\n",
    "    X = convolutional_block(X,Filters=[256,256,1024],block_number=3)\n",
    "    for id_block_number in range(1,37):\n",
    "        X = identity_block(X,Filters=[256,256,1024],block_number=3)\n",
    "    \n",
    "    #Conv5_x\n",
    "    X = convolutional_block(X,Filters=[512,512,2048],block_number=4)\n",
    "    for id_block_number in range(1,4):\n",
    "        X = identity_block(X,Filters=[512,512,2048],block_number=4)\n",
    "    \n",
    "    # Avg Pool\n",
    "    X = AveragePooling2D((2,2))(X)\n",
    "    \n",
    "    # OutPut Layer\n",
    "    X = Flatten()(X)\n",
    "    X = Dense(275,activation='softmax')(X)\n",
    "    model = Model(inputs=X_input,outputs=X)\n",
    "    return model"
   ]
  },
  {
   "cell_type": "code",
   "execution_count": null,
   "metadata": {},
   "outputs": [],
   "source": [
    "input_size=[224,224,3]\n",
    "model = resnet152(input_size)\n",
    "model.summary()"
   ]
  },
  {
   "cell_type": "code",
   "execution_count": null,
   "metadata": {},
   "outputs": [],
   "source": [
    "model.compile(optimizer='adam', loss='categorical_crossentropy', metrics=['accuracy'])\n",
    "model.fit(training_data, epochs = 10,batch_size=2)"
   ]
  },
  {
   "cell_type": "code",
   "execution_count": null,
   "metadata": {},
   "outputs": [],
   "source": [
    "model.save('resnet_weights.h5')"
   ]
  },
  {
   "cell_type": "code",
   "execution_count": null,
   "metadata": {},
   "outputs": [],
   "source": [
    "model.save('resnet_weights_hdf5.hdf5')"
   ]
  }
 ],
 "metadata": {
  "kernelspec": {
   "display_name": "Python 3 (ipykernel)",
   "language": "python",
   "name": "python3"
  },
  "language_info": {
   "codemirror_mode": {
    "name": "ipython",
    "version": 3
   },
   "file_extension": ".py",
   "mimetype": "text/x-python",
   "name": "python",
   "nbconvert_exporter": "python",
   "pygments_lexer": "ipython3",
   "version": "3.7.10"
  }
 },
 "nbformat": 4,
 "nbformat_minor": 4
}
