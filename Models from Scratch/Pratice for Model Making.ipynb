{
 "cells": [
  {
   "cell_type": "code",
   "execution_count": 4,
   "metadata": {},
   "outputs": [],
   "source": [
    "import numpy as np\n",
    "import tensorflow as tf\n",
    "from tensorflow import keras\n",
    "from tensorflow.keras.layers import Conv2D,ZeroPadding2D,MaxPool2D"
   ]
  },
  {
   "cell_type": "code",
   "execution_count": 18,
   "metadata": {},
   "outputs": [
    {
     "name": "stdout",
     "output_type": "stream",
     "text": [
      "Original Shape (1, 64, 64, 3)\n",
      "ZeroPadding Shape (1, 70, 70, 3)\n",
      "Conv2D Shape (1, 32, 32, 64)\n",
      "Maxpool2D Shape (1, 15, 15, 64)\n",
      "Conv2D Shape 2 (1, 15, 15, 64)\n",
      "Conv2D Shape 3 (1, 15, 15, 64)\n",
      "x_shortcut Shape (1, 15, 15, 64)\n",
      "Conv2D Shape 4 (1, 15, 15, 256)\n"
     ]
    }
   ],
   "source": [
    "#input_shape = (4,28, 28, 3)\n",
    "x = tf.random.normal(shape=(64,64,3))\n",
    "x=tf.reshape(x,[-1,64,64,3])\n",
    "print(f'Original Shape {x.shape}')\n",
    "\n",
    "x = ZeroPadding2D((3,3))(x)\n",
    "print(f'ZeroPadding Shape {x.shape}')\n",
    "\n",
    "x = tf.keras.layers.Conv2D(64, 7,strides=(2,2),activation='relu')(x)\n",
    "print(f'Conv2D Shape {x.shape}')\n",
    "\n",
    "x = MaxPool2D((3,3),strides=(2,2))(x)\n",
    "print(f'Maxpool2D Shape {x.shape}')\n",
    "\n",
    "x = Conv2D(64,(1,1),strides=(1,1))(x)\n",
    "print(f'Conv2D Shape 2 {x.shape}')\n",
    "\n",
    "x = Conv2D(64,(3,3),strides=(1,1),padding='same')(x)\n",
    "print(f'Conv2D Shape 3 {x.shape}')\n",
    "\n",
    "x_shortcut = x\n",
    "print(f'x_shortcut Shape {x_shortcut.shape}')\n",
    "\n",
    "x = Conv2D(256,(3,3),strides=(1,1),padding='same')(x)\n",
    "print(f'Conv2D Shape 4 {x.shape}')"
   ]
  },
  {
   "cell_type": "code",
   "execution_count": 25,
   "metadata": {},
   "outputs": [
    {
     "name": "stdout",
     "output_type": "stream",
     "text": [
      "x_shortcut Shape (1, 15, 15, 256)\n"
     ]
    }
   ],
   "source": [
    "x_shortcut = Conv2D(256,(1,1),strides=(1,1))(x_shortcut)\n",
    "print(f'x_shortcut Shape {x_shortcut.shape}')"
   ]
  },
  {
   "cell_type": "code",
   "execution_count": 54,
   "metadata": {},
   "outputs": [
    {
     "data": {
      "text/plain": [
       "(TensorShape([1, 30, 30, 3]), TensorShape([1, 28, 28, 3]))"
      ]
     },
     "execution_count": 54,
     "metadata": {},
     "output_type": "execute_result"
    }
   ],
   "source": [
    "x = tf.random.normal(shape=(28,28,3))\n",
    "x=tf.reshape(x,[-1,28,28,3])\n",
    "y = ZeroPadding2D()(x)\n",
    "y.shape,x.shape"
   ]
  },
  {
   "cell_type": "code",
   "execution_count": null,
   "metadata": {},
   "outputs": [],
   "source": []
  }
 ],
 "metadata": {
  "kernelspec": {
   "display_name": "Python 3 (ipykernel)",
   "language": "python",
   "name": "python3"
  },
  "language_info": {
   "codemirror_mode": {
    "name": "ipython",
    "version": 3
   },
   "file_extension": ".py",
   "mimetype": "text/x-python",
   "name": "python",
   "nbconvert_exporter": "python",
   "pygments_lexer": "ipython3",
   "version": "3.7.10"
  }
 },
 "nbformat": 4,
 "nbformat_minor": 4
}
